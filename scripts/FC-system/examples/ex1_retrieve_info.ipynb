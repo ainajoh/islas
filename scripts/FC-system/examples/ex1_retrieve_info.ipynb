{
 "cells": [
  {
   "cell_type": "markdown",
   "source": [
    "## Extracting information from packages"
   ],
   "metadata": {
    "collapsed": false,
    "pycharm": {
     "name": "#%% md\n"
    }
   }
  },
  {
   "cell_type": "code",
   "execution_count": 1,
   "metadata": {
    "collapsed": true,
    "pycharm": {
     "is_executing": false
    }
   },
   "outputs": [],
   "source": [
    "import loclib.get_data as get\n",
    "from loclib.domain import * \n",
    "import loclib.calculation as calc"
   ]
  },
  {
   "cell_type": "code",
   "execution_count": 2,
   "outputs": [
    {
     "name": "stdout",
     "text": [
      "Help on class DATA in module loclib.get_data:\n",
      "\n",
      "class DATA(builtins.object)\n",
      " |  DATA(data_domain, model='AromeArctic', mbrs=0, type='full', source='thredds', modelrun='latest', fctime=[0, 66], height_ml=[0, 64], param_ML=None, param_SFC=None, param_sfx=None)\n",
      " |  \n",
      " |  Methods defined here:\n",
      " |  \n",
      " |  __init__(self, data_domain, model='AromeArctic', mbrs=0, type='full', source='thredds', modelrun='latest', fctime=[0, 66], height_ml=[0, 64], param_ML=None, param_SFC=None, param_sfx=None)\n",
      " |      Initialize self.  See help(type(self)) for accurate signature.\n",
      " |  \n",
      " |  __setattr__(self, key, value)\n",
      " |      Implement setattr(self, name, value).\n",
      " |  \n",
      " |  make_url(self)\n",
      " |      Makes the OPENDAP url for the user specified model and parameters in a specific domain and time\n",
      " |  \n",
      " |  retrieve(self)\n",
      " |  \n",
      " |  thredds(self, url)\n",
      " |  \n",
      " |  windcorr(self)\n",
      " |  \n",
      " |  ----------------------------------------------------------------------\n",
      " |  Data descriptors defined here:\n",
      " |  \n",
      " |  __dict__\n",
      " |      dictionary for instance variables (if defined)\n",
      " |  \n",
      " |  __weakref__\n",
      " |      list of weak references to the object (if defined)\n",
      "\n"
     ],
     "output_type": "stream"
    }
   ],
   "source": [
    "help(get.DATA)\n",
    "get.DATA.__doc__\n"
   ],
   "metadata": {
    "collapsed": false,
    "pycharm": {
     "name": "#%%\n",
     "is_executing": false
    }
   }
  },
  {
   "cell_type": "code",
   "execution_count": 3,
   "outputs": [
    {
     "name": "stdout",
     "text": [
      "Help on module loclib.calculation in loclib:\n",
      "\n",
      "NAME\n",
      "    loclib.calculation - Containing useful functions\n",
      "\n",
      "FUNCTIONS\n",
      "    alt_gl2pres(jindx, iindx, h)\n",
      "    \n",
      "    density(Tv, p)\n",
      "    \n",
      "    get_samplesize(q, rho, a=0.5, b=0.95, acc=3)\n",
      "    \n",
      "    lapserate(air_temperature_ml, heighttoreturn)\n",
      "    \n",
      "    ml2alt_gl(p, air_temperature_ml, specific_humidity_ml)\n",
      "    \n",
      "    ml2alt_sl(p, surface_geopotential, air_temperature_ml, specific_humidity_ml)\n",
      "    \n",
      "    ml2pl(ap, b, surface_air_pressure)\n",
      "    \n",
      "    point_alt_sl2pres(jindx, iindx, point_alt, data_altitude_sl, t_v_level, p, surface_air_pressure, surface_geopotential)\n",
      "    \n",
      "    potential_temperatur(air_temperature_ml, p)\n",
      "    \n",
      "    precip_acc(precip, acc=1)\n",
      "    \n",
      "    round_up(n, decimals=0)\n",
      "    \n",
      "    timestamp2utc(timestamp)\n",
      "    \n",
      "    virtual_temp(air_temperature_ml, specific_humidity_ml)\n",
      "    \n",
      "    xwind2uwind(xwind, ywind, alpha)\n",
      "\n",
      "FILE\n",
      "    /Users/ainajoh/Documents/GitHub/islas/camps/camp_1/loclib/calculation.py\n",
      "\n",
      "\n"
     ],
     "output_type": "stream"
    }
   ],
   "source": [
    "help(calc)"
   ],
   "metadata": {
    "collapsed": false,
    "pycharm": {
     "name": "#%%\n",
     "is_executing": false
    }
   }
  },
  {
   "cell_type": "code",
   "execution_count": 4,
   "outputs": [
    {
     "name": "stdout",
     "text": [
      "Help on function timestamp2utc in module loclib.calculation:\n",
      "\n",
      "timestamp2utc(timestamp)\n",
      "\n"
     ],
     "output_type": "stream"
    }
   ],
   "source": [
    "help(calc.timestamp2utc)\n"
   ],
   "metadata": {
    "collapsed": false,
    "pycharm": {
     "name": "#%%\n",
     "is_executing": false
    }
   }
  },
  {
   "cell_type": "code",
   "execution_count": 5,
   "outputs": [
    {
     "name": "stdout",
     "text": [
      "Help on class DOMAIN in module loclib.domain:\n",
      "\n",
      "class DOMAIN(builtins.object)\n",
      " |  DOMAIN(lonlat=None, idx=None)\n",
      " |  \n",
      " |  Methods defined here:\n",
      " |  \n",
      " |  Arome_arctic(self)\n",
      " |  \n",
      " |  Finse(self)\n",
      " |  \n",
      " |  KingsBay(self)\n",
      " |  \n",
      " |  KingsBay_Z0(self)\n",
      " |  \n",
      " |  KingsBay_Z1(self)\n",
      " |  \n",
      " |  MEPS(self)\n",
      " |  \n",
      " |  South_Norway(self)\n",
      " |  \n",
      " |  Svalbard(self)\n",
      " |  \n",
      " |  Svalbard_z1(self)\n",
      " |  \n",
      " |  __init__(self, lonlat=None, idx=None)\n",
      " |      Initialize self.  See help(type(self)) for accurate signature.\n",
      " |  \n",
      " |  ----------------------------------------------------------------------\n",
      " |  Data descriptors defined here:\n",
      " |  \n",
      " |  __dict__\n",
      " |      dictionary for instance variables (if defined)\n",
      " |  \n",
      " |  __weakref__\n",
      " |      list of weak references to the object (if defined)\n",
      "\n"
     ],
     "output_type": "stream"
    }
   ],
   "source": [
    "data_domain = DOMAIN()\n",
    "help(DOMAIN)"
   ],
   "metadata": {
    "collapsed": false,
    "pycharm": {
     "name": "#%%\n",
     "is_executing": false
    }
   }
  },
  {
   "cell_type": "code",
   "execution_count": 6,
   "outputs": [
    {
     "name": "stdout",
     "text": [
      "|██████████|100.0%  - DONE                                                                         \n"
     ],
     "output_type": "stream"
    }
   ],
   "source": [
    "data_domain.South_Norway()\n",
    "lonlat = np.array(data_domain.lonlat)\n",
    "modelruntime=\"2020030800\"\n",
    "lt=1\n",
    "param_ML = [\"air_temperature_ml\"]\n",
    "param_SFC = [\"air_temperature_2m\"]\n",
    "param_sfx = [\"SST\", \"H\", \"LE\"]\n",
    "dmap_meps = get.DATA(model=\"MEPS\", data_domain=data_domain, param_SFC=param_SFC, param_ML=param_ML, fctime=[0, lt], modelrun=modelruntime)\n",
    "dmap_meps.retrieve()"
   ],
   "metadata": {
    "collapsed": false,
    "pycharm": {
     "name": "#%%\n",
     "is_executing": false
    }
   }
  },
  {
   "cell_type": "code",
   "execution_count": 7,
   "outputs": [
    {
     "data": {
      "text/plain": "['data_domain',\n 'source',\n 'type',\n 'model',\n 'mbrs',\n 'modelrun',\n 'fctime',\n 'height_ml',\n 'param_ML',\n 'param_SFC',\n 'param_sfx',\n 'url',\n 'time',\n 'latitude',\n 'longitude',\n 'forecast_reference_time',\n 'x',\n 'y',\n 'hybrid',\n 'ap',\n 'b',\n 'air_temperature_ml',\n 'air_temperature_2m',\n 'alpha',\n '__module__',\n '__init__',\n '__setattr__',\n 'make_url',\n 'thredds',\n 'windcorr',\n 'retrieve',\n '__dict__',\n '__weakref__',\n '__doc__',\n '__repr__',\n '__hash__',\n '__str__',\n '__getattribute__',\n '__delattr__',\n '__lt__',\n '__le__',\n '__eq__',\n '__ne__',\n '__gt__',\n '__ge__',\n '__new__',\n '__reduce_ex__',\n '__reduce__',\n '__subclasshook__',\n '__init_subclass__',\n '__format__',\n '__sizeof__',\n '__dir__',\n '__class__']"
     },
     "metadata": {},
     "output_type": "execute_result",
     "execution_count": 7
    }
   ],
   "source": [
    "#dmap_meps.__dict__\n",
    "dmap_meps.__dir__()\n",
    "#from pprint import pprint; pprint(vars(dmap_meps))"
   ],
   "metadata": {
    "collapsed": false,
    "pycharm": {
     "name": "#%%\n",
     "is_executing": false
    }
   }
  },
  {
   "cell_type": "code",
   "execution_count": 8,
   "outputs": [
    {
     "data": {
      "text/plain": "masked_array(\n  data=[[[[219.60966, 219.6043 , 219.59892, ..., 218.72636, 218.71782,\n           218.70952],\n          [219.59721, 219.59282, 219.58818, ..., 218.72734, 218.71855,\n           218.71   ],\n          [219.5833 , 219.57939, 219.57524, ..., 218.73027, 218.72124,\n           218.71294],\n          ...,\n          [217.74638, 217.7188 , 217.68901, ..., 216.55815, 216.52934,\n           216.45561],\n          [217.74712, 217.7205 , 217.6917 , ..., 216.55107, 216.4871 ,\n           216.41045],\n          [217.7437 , 217.71855, 217.69096, ..., 216.51714, 216.44023,\n           216.38628]],\n\n         [[218.26955, 218.26515, 218.26125, ..., 218.18947, 218.19093,\n           218.1924 ],\n          [218.26418, 218.26125, 218.25832, ..., 218.17433, 218.17482,\n           218.17628],\n          [218.2588 , 218.25636, 218.25246, ..., 218.15968, 218.16017,\n           218.16115],\n          ...,\n          [216.61818, 216.63918, 216.66359, ..., 216.5171 , 216.43605,\n           216.3296 ],\n          [216.58644, 216.60597, 216.62941, ..., 216.55128, 216.39796,\n           216.21388],\n          [216.55617, 216.57521, 216.59572, ..., 216.4673 , 216.24806,\n           216.07668]],\n\n         [[220.23141, 220.2363 , 220.24167, ..., 219.95163, 219.94211,\n           219.93137],\n          [220.2214 , 220.22873, 220.23459, ..., 219.94846, 219.93893,\n           219.92941],\n          [220.21408, 220.22116, 220.22629, ..., 219.9443 , 219.93552,\n           219.92722],\n          ...,\n          [218.83762, 218.81808, 218.79807, ..., 218.61813, 218.56784,\n           218.52072],\n          [218.81808, 218.8005 , 218.78268, ..., 218.71042, 218.59201,\n           218.40866],\n          [218.79514, 218.78073, 218.7634 , ..., 218.63278, 218.39816,\n           218.176  ]],\n\n         ...,\n\n         [[280.87497, 280.87595, 280.87595, ..., 277.8447 , 277.79684,\n           277.78317],\n          [280.87595, 280.8691 , 280.8652 , ..., 277.84372, 277.80563,\n           277.7939 ],\n          [280.85544, 280.87204, 280.8652 , ..., 277.82614, 277.83102,\n           277.82712],\n          ...,\n          [280.9033 , 280.874  , 280.84274, ..., 263.82126, 265.50192,\n           264.99997],\n          [280.9033 , 280.87985, 280.84763, ..., 266.32516, 268.49802,\n           267.84274],\n          [280.90524, 280.8984 , 280.83298, ..., 269.50583, 270.7529 ,\n           270.47946]],\n\n         [[280.9306 , 280.9306 , 280.92963, ..., 278.07904, 278.05463,\n           278.0478 ],\n          [280.9306 , 280.9228 , 280.91693, ..., 278.0927 , 278.06927,\n           278.0478 ],\n          [280.9101 , 280.92377, 280.91693, ..., 278.08685, 278.08392,\n           278.0644 ],\n          ...,\n          [281.0468 , 281.02045, 280.99115, ..., 263.39056, 264.4765 ,\n           264.21088],\n          [281.0468 , 281.02728, 280.99603, ..., 265.539  , 267.25482,\n           266.76166],\n          [281.0468 , 281.04584, 280.98138, ..., 268.581  , 269.8808 ,\n           269.77045]],\n\n         [[280.93384, 280.9309 , 280.927  , ..., 278.3235 , 278.30298,\n           278.30005],\n          [280.9319 , 280.9192 , 280.91138, ..., 278.33618, 278.3186 ,\n           278.29907],\n          [280.90747, 280.9192 , 280.90942, ..., 278.32935, 278.33228,\n           278.3108 ],\n          ...,\n          [281.17603, 281.15747, 281.13208, ..., 263.29126, 263.9231 ,\n           263.87915],\n          [281.17798, 281.15942, 281.13696, ..., 265.23853, 266.56274,\n           266.31372],\n          [281.17896, 281.177  , 281.12134, ..., 268.1809 , 269.47583,\n           269.5266 ]]],\n\n\n        [[[219.55193, 219.5402 , 219.52898, ..., 218.63225, 218.62834,\n           218.62395],\n          [219.55266, 219.54094, 219.52971, ..., 218.6137 , 218.60954,\n           218.60515],\n          [219.5529 , 219.54192, 219.53044, ..., 218.59563, 218.59099,\n           218.58635],\n          ...,\n          [217.48259, 217.44084, 217.39812, ..., 217.351  , 217.30486,\n           217.21916],\n          [217.50237, 217.4616 , 217.41985, ..., 217.31902, 217.24797,\n           217.1657 ],\n          [217.52116, 217.48137, 217.44084, ..., 217.2658 , 217.18523,\n           217.11394]],\n\n         [[218.13051, 218.12025, 218.11147, ..., 217.99672, 218.00307,\n           218.00941],\n          [218.12856, 218.11879, 218.10951, ..., 217.98402, 217.99037,\n           217.99672],\n          [218.12709, 218.11732, 218.10756, ..., 217.97035, 217.97719,\n           217.98402],\n          ...,\n          [216.83754, 216.85707, 216.87856, ..., 216.03334, 215.91225,\n           215.74379],\n          [216.81117, 216.83022, 216.8517 , ..., 216.02309, 215.87123,\n           215.69447],\n          [216.78676, 216.80434, 216.82484, ..., 215.94154, 215.73451,\n           215.51527]],\n\n         [[220.22675, 220.23456, 220.24432, ..., 220.27411, 220.26288,\n           220.25067],\n          [220.21503, 220.22333, 220.23114, ..., 220.27167, 220.25995,\n           220.24677],\n          [220.20624, 220.21356, 220.21991, ..., 220.26678, 220.25458,\n           220.2414 ],\n          ...,\n          [218.78632, 218.77118, 218.75458, ..., 218.43036, 218.36493,\n           218.2619 ],\n          [218.77118, 218.758  , 218.74432, ..., 218.42255, 218.3493 ,\n           218.22675],\n          [218.75214, 218.74188, 218.72919, ..., 218.32587, 218.15985,\n           217.92938]],\n\n         ...,\n\n         [[280.81174, 280.81857, 280.81955, ..., 277.93283, 277.94455,\n           277.93478],\n          [280.80978, 280.80783, 280.80588, ..., 277.97482, 277.96994,\n           277.9211 ],\n          [280.78732, 280.8049 , 280.8049 , ..., 277.99435, 277.97678,\n           277.91232],\n          ...,\n          [280.9006 , 280.8674 , 280.84787, ..., 264.63107, 266.3713 ,\n           265.79318],\n          [280.89963, 280.8752 , 280.8508 , ..., 266.92502, 269.58713,\n           268.86935],\n          [280.90158, 280.8918 , 280.83517, ..., 270.03732, 271.85373,\n           271.34885]],\n\n         [[280.87753, 280.88144, 280.88046, ..., 278.19394, 278.15   ,\n           278.13828],\n          [280.8746 , 280.86972, 280.8668 , ..., 278.1959 , 278.16464,\n           278.15   ],\n          [280.85214, 280.8668 , 280.86484, ..., 278.18515, 278.19394,\n           278.18222],\n          ...,\n          [281.0533 , 281.02402, 281.00253, ..., 264.26035, 265.36288,\n           264.97617],\n          [281.05234, 281.0328 , 281.00742, ..., 266.35214, 268.33456,\n           267.66074],\n          [281.0533 , 281.04843, 280.9918 , ..., 269.3414 , 270.91757,\n           270.5494 ]],\n\n         [[280.89685, 280.89685, 280.89392, ..., 278.42615, 278.40466,\n           278.39587],\n          [280.89294, 280.88416, 280.87927, ..., 278.44373, 278.42322,\n           278.39978],\n          [280.86853, 280.88025, 280.8744 , ..., 278.4486 , 278.4447 ,\n           278.41736],\n          ...,\n          [281.18396, 281.1615 , 281.13904, ..., 264.0736 , 264.67908,\n           264.47888],\n          [281.18396, 281.16833, 281.1449 , ..., 265.98865, 267.4359 ,\n           266.97107],\n          [281.18494, 281.1859 , 281.12927, ..., 268.9154 , 270.35193,\n           270.16443]]]],\n  mask=False,\n  fill_value=1e+20,\n  dtype=float32)"
     },
     "metadata": {},
     "output_type": "execute_result",
     "execution_count": 8
    }
   ],
   "source": [
    "dmap_meps.air_temperature_ml\n"
   ],
   "metadata": {
    "collapsed": false,
    "pycharm": {
     "name": "#%%\n",
     "is_executing": false
    }
   }
  }
 ],
 "metadata": {
  "kernelspec": {
   "display_name": "Python 3",
   "language": "python",
   "name": "python3"
  },
  "language_info": {
   "codemirror_mode": {
    "name": "ipython",
    "version": 2
   },
   "file_extension": ".py",
   "mimetype": "text/x-python",
   "name": "python",
   "nbconvert_exporter": "python",
   "pygments_lexer": "ipython2",
   "version": "2.7.6"
  },
  "pycharm": {
   "stem_cell": {
    "cell_type": "raw",
    "source": [],
    "metadata": {
     "collapsed": false
    }
   }
  }
 },
 "nbformat": 4,
 "nbformat_minor": 0
}